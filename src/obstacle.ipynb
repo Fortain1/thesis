{
 "cells": [
  {
   "cell_type": "code",
   "execution_count": 1,
   "metadata": {},
   "outputs": [],
   "source": [
    "from obstacle_env import QuadXObstacleEnv\n",
    "from PyFlyt.gym_envs import FlattenWaypointEnv\n",
    "\n",
    "env = QuadXObstacleEnv(render_mode=\"human\")\n",
    "\n"
   ]
  },
  {
   "cell_type": "code",
   "execution_count": 2,
   "metadata": {},
   "outputs": [
    {
     "name": "stdout",
     "output_type": "stream",
     "text": [
      "\u001b[A                             \u001b[A\n"
     ]
    }
   ],
   "source": [
    "obs = env.reset()\n"
   ]
  },
  {
   "cell_type": "code",
   "execution_count": 3,
   "metadata": {},
   "outputs": [],
   "source": [
    "env.close()"
   ]
  },
  {
   "cell_type": "code",
   "execution_count": 6,
   "metadata": {},
   "outputs": [],
   "source": [
    "setpoint = env.waypoints.obstacles[0]\n",
    "env.env.set_setpoint(0, setpoint)"
   ]
  },
  {
   "cell_type": "code",
   "execution_count": 428,
   "metadata": {},
   "outputs": [
    {
     "name": "stdout",
     "output_type": "stream",
     "text": [
      "[-2.2221854   2.42255736  0.64115679  0.24620082]\n",
      "-0.1\n",
      "False\n",
      "True\n",
      "{'out_of_bounds': False, 'collision': True, 'env_complete': False, 'num_targets_reached': 0}\n"
     ]
    },
    {
     "data": {
      "text/plain": [
       "1.35934065240491"
      ]
     },
     "execution_count": 428,
     "metadata": {},
     "output_type": "execute_result"
    }
   ],
   "source": [
    "action = env.action_space.sample()\n",
    "state, reward, termination, truncation, info = env.step(action)\n",
    "print(action)\n",
    "print(reward)\n",
    "print(truncation)\n",
    "print(termination)\n",
    "print(info)\n",
    "env.distance_obstacle "
   ]
  },
  {
   "cell_type": "code",
   "execution_count": 436,
   "metadata": {},
   "outputs": [
    {
     "data": {
      "text/plain": [
       "(array([-7.0579484 ,  2.11673828,  1.38804967]),\n",
       " array([-0.2894762 , -0.0259131 ,  0.03518352]),\n",
       " array([-0.61363547, -0.12371641,  2.95409173]),\n",
       " array([-0.08303996,  0.08911849,  1.16771166]),\n",
       " (-0.1439733227785174,\n",
       "  -0.015355701105317596,\n",
       "  0.015537033318981631,\n",
       "  0.9893404294616297))"
      ]
     },
     "execution_count": 436,
     "metadata": {},
     "output_type": "execute_result"
    }
   ],
   "source": [
    "env.compute_attitude()"
   ]
  }
 ],
 "metadata": {
  "kernelspec": {
   "display_name": "venv",
   "language": "python",
   "name": "python3"
  },
  "language_info": {
   "codemirror_mode": {
    "name": "ipython",
    "version": 3
   },
   "file_extension": ".py",
   "mimetype": "text/x-python",
   "name": "python",
   "nbconvert_exporter": "python",
   "pygments_lexer": "ipython3",
   "version": "3.9.0"
  }
 },
 "nbformat": 4,
 "nbformat_minor": 2
}
